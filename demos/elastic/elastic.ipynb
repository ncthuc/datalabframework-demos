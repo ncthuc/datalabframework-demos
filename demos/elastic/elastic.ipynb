{
 "cells": [
  {
   "cell_type": "markdown",
   "metadata": {},
   "source": [
    "# Elastic engine demo"
   ]
  },
  {
   "cell_type": "code",
   "execution_count": 1,
   "metadata": {},
   "outputs": [
    {
     "data": {
      "text/plain": [
       "{'profile': 'default',\n",
       " 'filename': 'elastic.ipynb',\n",
       " 'rootpath': '/home/thuc/teko/product-search/dlf-demos_fork/demos/elastic',\n",
       " 'workdir': '/home/thuc/teko/product-search/dlf-demos_fork/demos/elastic'}"
      ]
     },
     "execution_count": 1,
     "metadata": {},
     "output_type": "execute_result"
    }
   ],
   "source": [
    "import datalabframework as dlf\n",
    "from datalabframework import utils\n",
    "dlf.project.info()"
   ]
  },
  {
   "cell_type": "code",
   "execution_count": 3,
   "metadata": {},
   "outputs": [
    {
     "name": "stdout",
     "output_type": "stream",
     "text": [
      "engines:\n",
      "  spark-local:\n",
      "    config:\n",
      "      jobname: default\n",
      "      master: local[*]\n",
      "    context: spark\n",
      "loggers:\n",
      "  severity: info\n",
      "  stream:\n",
      "    enable: true\n",
      "profile: default\n",
      "providers:\n",
      "  elastic_test:\n",
      "    hostname: 123.31.32.226\n",
      "    port: 9200\n",
      "    service: elastic\n",
      "  local_filesystem:\n",
      "    format: csv\n",
      "    path: data\n",
      "    service: local\n",
      "resources:\n",
      "  .keywords:\n",
      "    path: keywords.csv\n",
      "    provider: local_filesystem\n",
      "    read:\n",
      "      mapping:\n",
      "        abc:\n",
      "          drop: true\n",
      "          fields:\n",
      "            keyword:\n",
      "              ignore_above: 256\n",
      "              type: keyword\n",
      "          fill: value\n",
      "          name: cds\n",
      "          type: text\n",
      "      options:\n",
      "        header: true\n",
      "        inferSchema: true\n",
      "  .keywords_elk:\n",
      "    path: search_keywords_dev2\n",
      "    provider: elastic_test\n",
      "    write:\n",
      "      options:\n",
      "        mappings:\n",
      "          doc_type: keyword\n",
      "          properties:\n",
      "            api_result:\n",
      "              type: double\n",
      "            count:\n",
      "              type: integer\n",
      "            gg:\n",
      "              type: integer\n",
      "            gg_clicks:\n",
      "              type: double\n",
      "            gg_impressions:\n",
      "              type: double\n",
      "            gg_position:\n",
      "              type: double\n",
      "            pv:\n",
      "              type: integer\n",
      "            pv_impressions:\n",
      "              type: double\n",
      "            pv_position:\n",
      "              type: double\n",
      "            pv_result:\n",
      "              type: double\n",
      "            query:\n",
      "              fields:\n",
      "                keyword:\n",
      "                  ignore_above: 128\n",
      "                  type: keyword\n",
      "              type: text\n",
      "            query_wo_tones:\n",
      "              fields:\n",
      "                keyword:\n",
      "                  ignore_above: 128\n",
      "                  type: keyword\n",
      "              type: text\n",
      "        settings:\n",
      "          index:\n",
      "            mapping:\n",
      "              total_fields:\n",
      "                limit: 1024\n",
      "            number_of_replicas: 3\n",
      "            number_of_shards: 1\n",
      "  .keywords_search:\n",
      "    path: /search_keywords_dev2/keyword/\n",
      "    provider: elastic_test\n",
      "    read:\n",
      "      options:\n",
      "        query:\n",
      "          from: '0'\n",
      "          query:\n",
      "            function_score:\n",
      "              boost_mode: multiply\n",
      "              query:\n",
      "                match:\n",
      "                  query_wo_tones:\n",
      "                    fuzziness: AUTO\n",
      "                    operator: or\n",
      "                    query: laptop dell i7\n",
      "              script_score:\n",
      "                script:\n",
      "                  source: Math.sqrt(doc['impressions'].value)\n",
      "          size: '10'\n",
      "variables:\n",
      "  from: 0\n",
      "  query: laptop dell i7\n",
      "  size: 10\n",
      "\n"
     ]
    }
   ],
   "source": [
    "metadata = dlf.params.metadata()\n",
    "utils.pretty_print(metadata)"
   ]
  },
  {
   "cell_type": "code",
   "execution_count": 4,
   "metadata": {},
   "outputs": [
    {
     "name": "stdout",
     "output_type": "stream",
     "text": [
      "PYSPARK_SUBMIT_ARGS:  pyspark-shell\n"
     ]
    }
   ],
   "source": [
    "import datalabframework as dlf\n",
    "engine = dlf.engines.get('spark-local')"
   ]
  },
  {
   "cell_type": "code",
   "execution_count": 5,
   "metadata": {},
   "outputs": [
    {
     "name": "stdout",
     "output_type": "stream",
     "text": [
      "2018-10-16 15:34:46,995 - INFO - f318bdd - datalabframework-demos.git - thuc - elastic.ipynb - engine.read - {'format': 'parquet', 'service': 'elastic', 'path': '/search_keywords_dev2/keyword/', 'url': 'http://123.31.32.226:9200//search_keywords_dev2/keyword/'}\n",
      "+--------------------+--------------------+---------+-------+----------+-----+---+--------------+-----------------+-----------+--------+---+---------+-----------+--------------+\n",
      "|                 _id|              _index|   _score|  _type|api_result|count| gg|gg_impressions|      gg_position|impressions|position| pv|pv_result|      query|query_wo_tones|\n",
      "+--------------------+--------------------+---------+-------+----------+-----+---+--------------+-----------------+-----------+--------+---+---------+-----------+--------------+\n",
      "|6Pf_e2YBknddiPsCp-8u|search_keywords_dev2|968.68555|keyword|    1452.0|    7|  1|      115890.0|4.356657846714286|    26945.0|     1.0|  1|    119.0|laptop dell|   laptop dell|\n",
      "|WPf_e2YBknddiPsC4_q8|search_keywords_dev2|968.68555|keyword|    1452.0|    7|  1|      115890.0|4.356657846714286|    26945.0|     1.0|  1|    119.0|laptop dell|   laptop dell|\n",
      "|OPf_e2YBknddiPsCpurO|search_keywords_dev2| 645.3939|keyword|     966.0|    7|  1|      253461.0|4.763130660666666|    33391.0|     1.0|  1|    726.0|     laptop|        laptop|\n",
      "|qPf_e2YBknddiPsC4_Rd|search_keywords_dev2| 645.3939|keyword|     966.0|    7|  1|      253461.0|4.763130660666666|    33391.0|     1.0|  1|    726.0|     laptop|        laptop|\n",
      "|Fvf_e2YBknddiPsCpunO|search_keywords_dev2| 556.2597|keyword|     245.0|    1|  1|       70033.0|      5.640669399|    22647.0|     1.0|  1|    246.0|       dell|          dell|\n",
      "|hvf_e2YBknddiPsC4_Nd|search_keywords_dev2| 556.2597|keyword|     245.0|    1|  1|       70033.0|      5.640669399|    22647.0|     1.0|  1|    246.0|       dell|          dell|\n",
      "|F_f_e2YBknddiPsCpurO|search_keywords_dev2|414.95386|keyword|     157.0|    2|  1|       67170.0|      6.588968174|    20709.0|     1.0|  1|    147.0|laptop asus|   laptop asus|\n",
      "|h_f_e2YBknddiPsC4_Rd|search_keywords_dev2|414.95386|keyword|     157.0|    2|  1|       67170.0|      6.588968174|    20709.0|     1.0|  1|    147.0|laptop asus|   laptop asus|\n",
      "|r_f_e2YBknddiPsCpuzP|search_keywords_dev2|293.26788|keyword|    1744.0|    3|  1|       16525.0|      1.677919414|    10344.0|     1.0|  1|     56.0| ram laptop|    ram laptop|\n",
      "|K_f_e2YBknddiPsC4_Ve|search_keywords_dev2|293.26788|keyword|    1744.0|    3|  1|       16525.0|      1.677919414|    10344.0|     1.0|  1|     56.0| ram laptop|    ram laptop|\n",
      "+--------------------+--------------------+---------+-------+----------+-----+---+--------------+-----------------+-----------+--------+---+---------+-----------+--------------+\n",
      "\n"
     ]
    }
   ],
   "source": [
    "res = engine.read(\".keywords_search\")\n",
    "res.show()"
   ]
  },
  {
   "cell_type": "code",
   "execution_count": 6,
   "metadata": {},
   "outputs": [
    {
     "data": {
      "text/plain": [
       "{'type': 'git',\n",
       " 'committer': 'natbusa',\n",
       " 'hash': 'f318bdd',\n",
       " 'commit': 'f318bdd1b54265bf04e35e91af50ad280b4776c3',\n",
       " 'branch': 'master',\n",
       " 'url': 'git@github.com:ncthuc/datalabframework-demos.git',\n",
       " 'name': 'datalabframework-demos.git',\n",
       " 'date': '2018-10-16T11:56:59+07:00',\n",
       " 'clean': False}"
      ]
     },
     "execution_count": 6,
     "metadata": {},
     "output_type": "execute_result"
    }
   ],
   "source": [
    "dlf.project.repository()"
   ]
  },
  {
   "cell_type": "code",
   "execution_count": 7,
   "metadata": {},
   "outputs": [
    {
     "data": {
      "text/plain": [
       "pyspark.sql.dataframe.DataFrame"
      ]
     },
     "execution_count": 7,
     "metadata": {},
     "output_type": "execute_result"
    }
   ],
   "source": [
    "type(res)"
   ]
  },
  {
   "cell_type": "code",
   "execution_count": 8,
   "metadata": {},
   "outputs": [
    {
     "name": "stdout",
     "output_type": "stream",
     "text": [
      "2018-10-16 15:34:58,828 - INFO - f318bdd - datalabframework-demos.git - thuc - elastic.ipynb - engine.read - {'format': 'csv', 'service': 'local', 'path': 'keywords.csv', 'url': 'file:///home/thuc/teko/product-search/dlf-demos_fork/demos/elastic/data/keywords.csv'}\n"
     ]
    }
   ],
   "source": [
    "df = engine.read(\".keywords\")"
   ]
  },
  {
   "cell_type": "code",
   "execution_count": 9,
   "metadata": {},
   "outputs": [
    {
     "name": "stdout",
     "output_type": "stream",
     "text": [
      "+--------------------+--------------------+-----------+--------+--------------+-----------+----------+---------+---+---+-----+\n",
      "|      query_wo_tones|               query|impressions|position|gg_impressions|gg_position|api_result|pv_result| pv| gg|count|\n",
      "+--------------------+--------------------+-----------+--------+--------------+-----------+----------+---------+---+---+-----+\n",
      "|        asus h110m-d|        asus h110m-d|195.8090665|    null|         570.0|3.335087719|     458.0|      0.0|  0|  1|    1|\n",
      "|           ddr3 1600|           ddr3 1600|      202.0|     1.0|          86.0|        2.5|      30.0|     36.0|  1|  1|    1|\n",
      "|         epson l1300|         epson l1300|191.3432457|    null|         557.0|5.057450628|       1.0|      1.0|  0|  1|    1|\n",
      "| intel pentium g4600| intel pentium g4600|166.2659442|    null|         484.0|3.423553719|       1.0|      0.0|  0|  1|    1|\n",
      "|               j250f|               j250f|220.1993186|    null|         641.0|3.653666147|       1.0|      3.0|  0|  1|    1|\n",
      "|      logitech mk240|      logitech mk240|283.7513841|    null|         826.0|5.290556901|       3.0|      2.0|  0|  1|    1|\n",
      "|man hinh dell u2414h|màn hình dell u2414h| 312.607457|    null|         910.0|1.051013895|       1.0|     38.0|  0|  1|    1|\n",
      "|   may in canon 2900|   máy in canon 2900| 766.060032|     1.0|       33819.0|4.967219117|     290.0|     17.0|  1|  1|    2|\n",
      "|                 sdd|                 sdd|      196.0|     1.0|          null|       null|       4.0|      0.0|  1|  0|    1|\n",
      "|  ssd 120gb kingston|  ssd 120gb kingston|     8682.0|     1.0|        1568.0|1.511479592|       4.0|      5.0|  1|  1|    1|\n",
      "|tai nghe bluetoot...|tai nghe bluetoot...| 353.143369|    null|        1028.0|7.323929961|       8.0|     82.0|  0|  1|    1|\n",
      "|    tay cam game pad|    tay cam game pad|1404.328884|    null|        4088.0|1.140528006|     466.0|      0.0|  0|  1|    1|\n",
      "|                220s|                220s|      417.0|     1.0|          null|       null|       3.0|      7.0|  1|  0|    1|\n",
      "|        asus fx504gd|        asus fx504gd|400.2062499|    null|        1165.0|3.596566524|       2.0|      3.0|  0|  1|    1|\n",
      "|  bo may tinh de ban|  bộ máy tính để bàn|       93.0|     1.0|        2943.0|2.956846755|      24.0|    285.0|  1|  1|    1|\n",
      "|     cap noi dai usb|     cáp nối dài usb|197.5266899|    null|         575.0|2.648695652|       7.0|      9.0|  0|  1|    1|\n",
      "|  case cooler master|  case cooler master|268.9798229|    null|         783.0|5.947637292|      13.0|      0.0|  0|  1|    1|\n",
      "|case sama dark sh...|case sama dark sh...|       61.0|     1.0|         520.0|      1.175|       1.0|      1.0|  1|  1|    1|\n",
      "|         ddr4 laptop|         ddr4 laptop|      151.0|     1.0|          67.0|2.164179104|      15.0|     25.0|  1|  1|    1|\n",
      "|  dell inspiron 7460|  dell inspiron 7460|      133.0|     1.0|         814.0|6.582309582|     263.0|      0.0|  1|  1|    1|\n",
      "+--------------------+--------------------+-----------+--------+--------------+-----------+----------+---------+---+---+-----+\n",
      "only showing top 20 rows\n",
      "\n"
     ]
    }
   ],
   "source": [
    "df.show()"
   ]
  },
  {
   "cell_type": "code",
   "execution_count": 10,
   "metadata": {},
   "outputs": [],
   "source": [
    "# import datalabframework as dlf\n",
    "# from datalabframework import utils\n",
    "# engine = dlf.engines.get('spark-local')\n",
    "# df = engine.read(\".keywords\")"
   ]
  },
  {
   "cell_type": "code",
   "execution_count": 12,
   "metadata": {},
   "outputs": [
    {
     "name": "stdout",
     "output_type": "stream",
     "text": [
      "{'index': {'mapping': {'total_fields': {'limit': 1024}}, 'number_of_replicas': 3, 'number_of_shards': 1}}\n",
      "{'api_result': {'type': 'double'}, 'count': {'type': 'integer'}, 'gg': {'type': 'integer'}, 'gg_clicks': {'type': 'double'}, 'gg_impressions': {'type': 'double'}, 'gg_position': {'type': 'double'}, 'pv': {'type': 'integer'}, 'pv_impressions': {'type': 'double'}, 'pv_position': {'type': 'double'}, 'pv_result': {'type': 'double'}, 'query': {'fields': {'keyword': {'ignore_above': 128, 'type': 'keyword'}}, 'type': 'text'}, 'query_wo_tones': {'fields': {'keyword': {'ignore_above': 128, 'type': 'keyword'}}, 'type': 'text'}}\n",
      "2018-10-16 15:35:32,562 - INFO - f318bdd - datalabframework-demos.git - thuc - elastic.ipynb - engine.write - {'format': 'parquet', 'service': 'elastic', 'path': 'search_keywords_dev2', 'url': 'http://123.31.32.226:9200/search_keywords_dev2'}\n"
     ]
    }
   ],
   "source": [
    "engine.write(df, \".keywords_elk\", mode='overwrite')"
   ]
  }
 ],
 "metadata": {
  "kernelspec": {
   "display_name": "Python 3",
   "language": "python",
   "name": "python3"
  },
  "language_info": {
   "codemirror_mode": {
    "name": "ipython",
    "version": 3
   },
   "file_extension": ".py",
   "mimetype": "text/x-python",
   "name": "python",
   "nbconvert_exporter": "python",
   "pygments_lexer": "ipython3",
   "version": "3.6.6"
  }
 },
 "nbformat": 4,
 "nbformat_minor": 2
}
