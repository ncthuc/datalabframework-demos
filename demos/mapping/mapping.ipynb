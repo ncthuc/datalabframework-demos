{
 "cells": [
  {
   "cell_type": "code",
   "execution_count": 1,
   "metadata": {},
   "outputs": [
    {
     "data": {
      "text/plain": [
       "{'profile': 'default',\n",
       " 'filename': 'mapping.ipynb',\n",
       " 'rootpath': '/home/thuc/teko/product-search/dlf-demos_fork/demos/mapping',\n",
       " 'workdir': '/home/thuc/teko/product-search/dlf-demos_fork/demos/mapping'}"
      ]
     },
     "execution_count": 1,
     "metadata": {},
     "output_type": "execute_result"
    }
   ],
   "source": [
    "import datalabframework as dlf\n",
    "from datalabframework import utils\n",
    "dlf.project.info()"
   ]
  },
  {
   "cell_type": "code",
   "execution_count": 2,
   "metadata": {},
   "outputs": [
    {
     "name": "stdout",
     "output_type": "stream",
     "text": [
      "engines:\n",
      "  spark-local:\n",
      "    config:\n",
      "      jobname: default\n",
      "      master: local[*]\n",
      "    context: spark\n",
      "loggers:\n",
      "  severity: info\n",
      "  stream:\n",
      "    enable: true\n",
      "profile: default\n",
      "providers:\n",
      "  local_filesystem:\n",
      "    format: csv\n",
      "    path: data\n",
      "    read:\n",
      "      options:\n",
      "        header: true\n",
      "        inferSchema: true\n",
      "    service: local\n",
      "resources:\n",
      "  .products:\n",
      "    path: products.csv\n",
      "    provider: local_filesystem\n",
      "    read:\n",
      "      mapping:\n",
      "        abc:\n",
      "          fields:\n",
      "            keyword:\n",
      "              ignore_above: 256\n",
      "              type: keyword\n",
      "          fill: value\n",
      "          name: cds\n",
      "          type: string\n",
      "        asia_category_code:\n",
      "          drop: true\n",
      "        code:\n",
      "          drop: true\n",
      "        color_name:\n",
      "          drop: true\n",
      "        description:\n",
      "          drop: true\n",
      "        description_short:\n",
      "          drop: true\n",
      "        import_amount:\n",
      "          drop: true\n",
      "        import_price:\n",
      "          drop: true\n",
      "        import_value:\n",
      "          drop: true\n",
      "        last_date:\n",
      "          drop: true\n",
      "        magento_status:\n",
      "          drop: true\n",
      "        model:\n",
      "          drop: true\n",
      "        model2:\n",
      "          drop: true\n",
      "        promotion_price:\n",
      "          drop: true\n",
      "        promotion_status:\n",
      "          drop: true\n",
      "        series:\n",
      "          drop: true\n",
      "        status:\n",
      "          drop: true\n",
      "        url_key:\n",
      "          drop: true\n",
      "        variant:\n",
      "          drop: true\n",
      "        watched:\n",
      "          drop: true\n",
      "  .sales:\n",
      "    path: sales.csv\n",
      "    provider: local_filesystem\n",
      "    read:\n",
      "      mapping:\n",
      "        last_date:\n",
      "          name: date\n",
      "        ma_vt:\n",
      "          name: sku\n",
      "        sl_ban_ra:\n",
      "          name: quantity\n",
      "          type: integer\n",
      "        ten_vt:\n",
      "          name: name\n",
      "        tien_ban_ra:\n",
      "          name: revenue\n",
      "variables:\n",
      "  from: 0\n",
      "  query: laptop\n",
      "  size: 10\n",
      "\n"
     ]
    }
   ],
   "source": [
    "metadata = dlf.params.metadata()\n",
    "utils.pretty_print(metadata)"
   ]
  },
  {
   "cell_type": "code",
   "execution_count": 1,
   "metadata": {},
   "outputs": [
    {
     "name": "stdout",
     "output_type": "stream",
     "text": [
      "PYSPARK_SUBMIT_ARGS:  pyspark-shell\n",
      "2018-10-17 11:20:05,097 - INFO - db052f4 - datalabframework-demos.git - thuc - mapping.ipynb - engine.read - {'format': 'csv', 'service': 'local', 'path': 'products.csv', 'url': 'file:///home/thuc/teko/product-search/dlf-demos_fork/demos/mapping/data/products.csv'}\n",
      "root\n",
      " |-- brand_name: string (nullable = true)\n",
      " |-- category_name: string (nullable = true)\n",
      " |-- family: string (nullable = true)\n",
      " |-- id: string (nullable = true)\n",
      " |-- image: string (nullable = true)\n",
      " |-- is_active: string (nullable = true)\n",
      " |-- name: string (nullable = true)\n",
      " |-- price: string (nullable = true)\n",
      " |-- product_all_properties: string (nullable = true)\n",
      " |-- pv_sku: string (nullable = true)\n",
      " |-- quantity: string (nullable = true)\n",
      " |-- revenue: string (nullable = true)\n",
      " |-- abc: string (nullable = false)\n",
      "\n",
      "+-------------------+-------------+------+----+--------------------+---------+--------------------+---------+----------------------+-------+--------------------+--------------------+-----+\n",
      "|         brand_name|category_name|family|  id|               image|is_active|                name|    price|product_all_properties| pv_sku|            quantity|             revenue|  abc|\n",
      "+-------------------+-------------+------+----+--------------------+---------+--------------------+---------+----------------------+-------+--------------------+--------------------+-----+\n",
      "|           TH999999|    Lót Chuột|  null|   7|http://phongvu.vn...|        0|ban di chuot cool...|     null|  1703390 ban di ch...|1703390|                 0.0|                 0.0|value|\n",
      "|            CORSAIR|    Lót Chuột|  null|  12|http://phongvu.vn...|        0|ban di chuot cors...| 830000.0|  1703393 ban di ch...|1703393|                 0.0|                 0.0|value|\n",
      "|            CORSAIR|    Lót Chuột|  null|  16|http://phongvu.vn...|        0|ban di chuot cors...|1480000.0|  1703487 ban di ch...|1703487|                 0.0|                 0.0|value|\n",
      "|             E-Blue|    Lót Chuột|  null|  21|http://shop.gcafe...|        0|mieng lot chuot e...|  45000.0|  1703401 mieng lot...|1703401|0.001066098081023...|4.746892042302491...|value|\n",
      "|    Hacker Assassin|    Lót Chuột|  null|null|                null|     null|                null|     null|                  null|   null|                null|                null|value|\n",
      "|               null|         null|  null|null|                null|     null|                null|     null|                  null|   null|                null|                null|value|\n",
      "|- Kích thước Medium|         null|  null|null|                null|     null|                null|     null|                  null|   null|                null|                null|value|\n",
      "|               null|         null|  null|null|                null|     null|                null|     null|                  null|   null|                null|                null|value|\n",
      "|               null|           22|     0|null|                   1|  20000.0|                 0.0|      0.0|                  null|  4.5mm|                   0|                null|value|\n",
      "|             Mionix|    Lót Chuột|  null|  30|http://phongvu.vn...|        0|ban di chuot mion...| 390000.0|  1703492 ban di ch...|1703492|                 0.0|                 0.0|value|\n",
      "|           TH999999|    Lót Chuột|  null|  31|http://phongvu.vn...|        0|ban di chuot mion...| 300000.0|  1703408 ban di ch...|1703408|                 0.0|                 0.0|value|\n",
      "|             NEWMEN|    Lót Chuột|  null|  35|http://shop.gcafe...|        0|mieng lot chuot n...|  30000.0|  1703409 mieng lot...|1703409|                 0.0|                 0.0|value|\n",
      "|             NEWMEN|    Lót Chuột|  null|  42|http://shop.gcafe...|        0|mieng lot chuot n...|  25000.0|  1703410 mieng lot...|1703410|                 0.0|                 0.0|value|\n",
      "|             NEWMEN|    Lót Chuột|  null|  43|http://shop.gcafe...|        0|mieng lot chuot n...| 130000.0|  1703411 mieng lot...|1703411|                 0.0|                 0.0|value|\n",
      "|           TH999999|    Lót Chuột|  null|  44|http://phongvu.vn...|        0|ban di chuot raze...| 549000.0|  1703414 ban di ch...|1703414|                 0.0|                 0.0|value|\n",
      "|           TH999999|    Lót Chuột|  null|  46|http://shop.gcafe...|        0|mieng lot chuot r...|1599000.0|  1703415 mieng lot...|1703415|                 0.0|0.000237704305672...|value|\n",
      "|              Razer|    Lót Chuột|  null|  49|http://phongvu.vn...|        0|ban di chuot raze...| 699000.0|  1703495 ban di ch...|1703495|                 0.0|                 0.0|value|\n",
      "|           TH999999|    Lót Chuột|  null|  50|http://shop.gcafe...|        0|mieng lot chuot r...| 299000.0|  1705121 mieng lot...|1705121|                 0.0|                 0.0|value|\n",
      "|              Razer|    Lót Chuột|  null|  51|http://shop.gcafe...|        1|mieng lot chuot r...| 890000.0|  1703417 mieng lot...|1703417|0.000133262260127...|0.000277316330420...|value|\n",
      "|        SteelSeries|    Lót Chuột|  null|  54|http://shop.gcafe...|        0|mieng lot chuot s...|1166000.0|  1703425 mieng lot...|1703425|                 0.0|                 0.0|value|\n",
      "+-------------------+-------------+------+----+--------------------+---------+--------------------+---------+----------------------+-------+--------------------+--------------------+-----+\n",
      "only showing top 20 rows\n",
      "\n"
     ]
    }
   ],
   "source": [
    "import datalabframework as dlf\n",
    "from datalabframework import utils\n",
    "engine = dlf.engines.get('spark-local')\n",
    "df = engine.read(\".products\")\n",
    "df.printSchema()\n",
    "df.show()"
   ]
  },
  {
   "cell_type": "code",
   "execution_count": 6,
   "metadata": {},
   "outputs": [
    {
     "name": "stdout",
     "output_type": "stream",
     "text": [
      "root\n",
      " |-- brand_name: string (nullable = true)\n",
      " |-- category_name: string (nullable = true)\n",
      " |-- id: string (nullable = true)\n",
      " |-- image: string (nullable = true)\n",
      " |-- is_active: string (nullable = true)\n",
      " |-- last_date: string (nullable = true)\n",
      " |-- model: string (nullable = true)\n",
      " |-- name: string (nullable = true)\n",
      " |-- price: string (nullable = true)\n",
      " |-- product_all_properties: string (nullable = true)\n",
      " |-- pv_sku: string (nullable = true)\n",
      " |-- quantity: string (nullable = true)\n",
      " |-- revenue: string (nullable = true)\n",
      " |-- url_key: string (nullable = true)\n",
      "\n"
     ]
    }
   ],
   "source": [
    "df.printSchema()"
   ]
  },
  {
   "cell_type": "code",
   "execution_count": 7,
   "metadata": {},
   "outputs": [
    {
     "data": {
      "text/plain": [
       "['brand_name',\n",
       " 'category_name',\n",
       " 'id',\n",
       " 'image',\n",
       " 'is_active',\n",
       " 'last_date',\n",
       " 'model',\n",
       " 'name',\n",
       " 'price',\n",
       " 'product_all_properties',\n",
       " 'pv_sku',\n",
       " 'quantity',\n",
       " 'revenue',\n",
       " 'url_key']"
      ]
     },
     "execution_count": 7,
     "metadata": {},
     "output_type": "execute_result"
    }
   ],
   "source": [
    "df.columns"
   ]
  },
  {
   "cell_type": "code",
   "execution_count": 28,
   "metadata": {},
   "outputs": [
    {
     "data": {
      "text/plain": [
       "['byte',\n",
       " 'short',\n",
       " 'integer',\n",
       " 'long',\n",
       " 'float',\n",
       " 'double',\n",
       " 'decimal',\n",
       " 'string',\n",
       " 'boolean',\n",
       " 'timestamp',\n",
       " 'date',\n",
       " 'array']"
      ]
     },
     "execution_count": 28,
     "metadata": {},
     "output_type": "execute_result"
    }
   ],
   "source": [
    "from pyspark.sql.types import *\n",
    "supportedTypes = [\n",
    "                ByteType.typeName(),\n",
    "                ShortType.typeName(),\n",
    "                IntegerType.typeName(),\n",
    "                LongType.typeName(),\n",
    "                FloatType.typeName(),\n",
    "                DoubleType.typeName(),\n",
    "                DecimalType.typeName(),\n",
    "                StringType.typeName(),\n",
    "                BooleanType.typeName(),\n",
    "                TimestampType.typeName(),\n",
    "                DateType.typeName(),\n",
    "                ArrayType.typeName()\n",
    "            ]\n",
    "supportedTypes"
   ]
  },
  {
   "cell_type": "code",
   "execution_count": 1,
   "metadata": {},
   "outputs": [
    {
     "name": "stdout",
     "output_type": "stream",
     "text": [
      "PYSPARK_SUBMIT_ARGS:  pyspark-shell\n",
      "2018-10-17 15:35:43,161 - INFO - db052f4 - datalabframework-demos.git - thuc - mapping.ipynb - engine.read - {'format': 'csv', 'service': 'local', 'path': 'sales.csv', 'url': 'file:///home/thuc/teko/product-search/dlf-demos_fork/demos/mapping/data/sales.csv'}\n",
      "root\n",
      " |-- ma_vt: integer (nullable = true)\n",
      " |-- ten_vt: string (nullable = true)\n",
      " |-- sl_ban_ra: string (nullable = true)\n",
      " |-- tien_ban_ra: double (nullable = true)\n",
      " |-- last_date: string (nullable = true)\n",
      " |-- extra: double (nullable = true)\n",
      "\n",
      "+-------+----------------------------------------------------+---------+-----------+-------------------+-----+\n",
      "|ma_vt  |ten_vt                                              |sl_ban_ra|tien_ban_ra|last_date          |extra|\n",
      "+-------+----------------------------------------------------+---------+-----------+-------------------+-----+\n",
      "|1200109|null                                                |51.0     |1.291816E7 |2018-10-09T00:00:00|942.0|\n",
      "|1200110|Bộ cấp nguồn/ Adaptor Acer 19V-4.74A                |null     |null       |2018-10-08T00:00:00|null |\n",
      "|1200112|Bộ cấp nguồn/ Adaptor Asus 19V-2.1A                 |2.0      |678182.0   |2018-09-25T00:00:00|134.0|\n",
      "|1200113|Bộ cấp nguồn/ Adaptor Asus 19V-3.42A                |116.0    |2.952722E7 |2018-10-09T00:00:00|853.0|\n",
      "|1200114|Bộ cấp nguồn/ Adaptor Asus 19V-4.74A                |31.0     |8651821.0  |2018-10-09T00:00:00|655.0|\n",
      "|1200119|Bộ cấp nguồn/ Adaptor Dell 19.5V-3.34A (Đầu kim nhỏ)|80.0     |2.9090882E7|2018-10-09T00:00:00|403.0|\n",
      "|1200122|Bộ cấp nguồn/ Adaptor Dell 19.5V - 4.62A (Đầu kim)  |69.0     |2.2581837E7|2018-10-09T00:00:00|417.0|\n",
      "|1200124|Bộ cấp nguồn/ Adaptor Dell 19.5V-6.7A               |2.0      |1236364.0  |2018-09-27T00:00:00|339.0|\n",
      "|1200131|Bộ cấp nguồn/ Adaptor HP 18.5V-3.5A                 |1.0      |230000.0   |2018-09-19T00:00:00|957.0|\n",
      "|1200132|Bộ cấp nguồn/ Adaptor HP 18.5V 3.5A (Đầu kim)       |19.0     |4836355.0  |2018-10-08T00:00:00|218.0|\n",
      "|1200138|Bộ cấp nguồn/ Adaptor HP 19V-4.74A (Đầu kim)        |19.0     |5527271.0  |2018-10-09T00:00:00|978.0|\n",
      "|1200140|Bộ cấp nguồn/ Adaptor IBM 16V-3.5A/4.5A             |1.0      |254545.0   |2018-10-05T00:00:00|277.0|\n",
      "|1200144|Bộ cấp nguồn/ Adaptor Lenovo 19V-3.42A              |3.0      |799092.0   |2018-09-27T00:00:00|973.0|\n",
      "|1200146|Bộ cấp nguồn/ Adaptor Lenovo 20V-2A                 |0.0      |0.0        |2018-09-30T00:00:00|0.0  |\n",
      "|1200147|Bộ cấp nguồn/ Adaptor Lenovo 20V-3.25A (Đầu Thường) |4.0      |1065456.0  |2018-10-08T00:00:00|961.0|\n",
      "|1200148|Bộ cấp nguồn/ Adaptor Lenovo 20V-3.25A (Đầu Kim)    |2.0      |563636.0   |2018-10-05T00:00:00|614.0|\n",
      "|1200155|Bộ cấp nguồn/ Adaptor Samsung 19V-2.1A              |2.0      |558182.0   |2018-09-17T00:00:00|205.0|\n",
      "|1200156|Bộ cấp nguồn/ Adaptor Samsung 19V-3.16A             |2.0      |558182.0   |2018-10-03T00:00:00|205.0|\n",
      "|1200164|Bộ cấp nguồn/ Adaptor Sony 19.5V-3.9A               |11.0     |3070001.0  |2018-10-08T00:00:00|623.0|\n",
      "|1200165|Bộ cấp nguồn/ Adaptor Sony 19.5V-4.7A               |14.0     |4072726.0  |2018-10-08T00:00:00|402.0|\n",
      "+-------+----------------------------------------------------+---------+-----------+-------------------+-----+\n",
      "only showing top 20 rows\n",
      "\n"
     ]
    }
   ],
   "source": [
    "import datalabframework as dlf\n",
    "from datalabframework import utils\n",
    "engine = dlf.engines.get('spark-local')\n",
    "\n",
    "df = engine.read(\".sales_origin\")\n",
    "df.printSchema()\n",
    "df.show(truncate = False)"
   ]
  },
  {
   "cell_type": "code",
   "execution_count": 2,
   "metadata": {},
   "outputs": [
    {
     "name": "stdout",
     "output_type": "stream",
     "text": [
      "2018-10-17 15:36:07,252 - INFO - db052f4 - datalabframework-demos.git - thuc - mapping.ipynb - engine.read - {'format': 'csv', 'service': 'local', 'path': 'sales.csv', 'url': 'file:///home/thuc/teko/product-search/dlf-demos_fork/demos/mapping/data/sales.csv'}\n",
      "root\n",
      " |-- sku: string (nullable = true)\n",
      " |-- name: string (nullable = false)\n",
      " |-- quantity: integer (nullable = false)\n",
      " |-- revenue: integer (nullable = false)\n",
      " |-- date: date (nullable = true)\n",
      " |-- day: integer (nullable = true)\n",
      " |-- month: integer (nullable = true)\n",
      " |-- weekday: string (nullable = true)\n",
      " |-- year: integer (nullable = true)\n",
      "\n",
      "+-------+----------------------------------------------------+--------+--------+----------+---+-----+---------+----+\n",
      "|sku    |name                                                |quantity|revenue |date      |day|month|weekday  |year|\n",
      "+-------+----------------------------------------------------+--------+--------+----------+---+-----+---------+----+\n",
      "|1200109|unknown                                             |51      |12918160|2018-10-09|9  |10   |Tuesday  |2018|\n",
      "|1200110|bo cap nguon/ adaptor acer 19v-4.74a                |0       |-1      |2018-10-08|8  |10   |Monday   |2018|\n",
      "|1200112|bo cap nguon/ adaptor asus 19v-2.1a                 |2       |678182  |2018-09-25|25 |9    |Tuesday  |2018|\n",
      "|1200113|bo cap nguon/ adaptor asus 19v-3.42a                |116     |29527220|2018-10-09|9  |10   |Tuesday  |2018|\n",
      "|1200114|bo cap nguon/ adaptor asus 19v-4.74a                |31      |8651821 |2018-10-09|9  |10   |Tuesday  |2018|\n",
      "|1200119|bo cap nguon/ adaptor dell 19.5v-3.34a (dau kim nho)|80      |29090882|2018-10-09|9  |10   |Tuesday  |2018|\n",
      "|1200122|bo cap nguon/ adaptor dell 19.5v - 4.62a (dau kim)  |69      |22581837|2018-10-09|9  |10   |Tuesday  |2018|\n",
      "|1200124|bo cap nguon/ adaptor dell 19.5v-6.7a               |2       |1236364 |2018-09-27|27 |9    |Thursday |2018|\n",
      "|1200131|bo cap nguon/ adaptor hp 18.5v-3.5a                 |1       |230000  |2018-09-19|19 |9    |Wednesday|2018|\n",
      "|1200132|bo cap nguon/ adaptor hp 18.5v 3.5a (dau kim)       |19      |4836355 |2018-10-08|8  |10   |Monday   |2018|\n",
      "|1200138|bo cap nguon/ adaptor hp 19v-4.74a (dau kim)        |19      |5527271 |2018-10-09|9  |10   |Tuesday  |2018|\n",
      "|1200140|bo cap nguon/ adaptor ibm 16v-3.5a/4.5a             |1       |254545  |2018-10-05|5  |10   |Friday   |2018|\n",
      "|1200144|bo cap nguon/ adaptor lenovo 19v-3.42a              |3       |799092  |2018-09-27|27 |9    |Thursday |2018|\n",
      "|1200146|bo cap nguon/ adaptor lenovo 20v-2a                 |0       |0       |2018-09-30|30 |9    |Sunday   |2018|\n",
      "|1200147|bo cap nguon/ adaptor lenovo 20v-3.25a (dau thuong) |4       |1065456 |2018-10-08|8  |10   |Monday   |2018|\n",
      "|1200148|bo cap nguon/ adaptor lenovo 20v-3.25a (dau kim)    |2       |563636  |2018-10-05|5  |10   |Friday   |2018|\n",
      "|1200155|bo cap nguon/ adaptor samsung 19v-2.1a              |2       |558182  |2018-09-17|17 |9    |Monday   |2018|\n",
      "|1200156|bo cap nguon/ adaptor samsung 19v-3.16a             |2       |558182  |2018-10-03|3  |10   |Wednesday|2018|\n",
      "|1200164|bo cap nguon/ adaptor sony 19.5v-3.9a               |11      |3070001 |2018-10-08|8  |10   |Monday   |2018|\n",
      "|1200165|bo cap nguon/ adaptor sony 19.5v-4.7a               |14      |4072726 |2018-10-08|8  |10   |Monday   |2018|\n",
      "+-------+----------------------------------------------------+--------+--------+----------+---+-----+---------+----+\n",
      "only showing top 20 rows\n",
      "\n"
     ]
    }
   ],
   "source": [
    "import datalabframework as dlf\n",
    "from datalabframework import utils\n",
    "engine = dlf.engines.get('spark-local')\n",
    "\n",
    "df = engine.read(\".sales\")\n",
    "df.printSchema()\n",
    "df.show(truncate = False)"
   ]
  },
  {
   "cell_type": "code",
   "execution_count": 30,
   "metadata": {},
   "outputs": [],
   "source": [
    "from pyspark.sql import functions as F"
   ]
  },
  {
   "cell_type": "code",
   "execution_count": 20,
   "metadata": {},
   "outputs": [
    {
     "data": {
      "text/plain": [
       "True"
      ]
     },
     "execution_count": 20,
     "metadata": {},
     "output_type": "execute_result"
    }
   ],
   "source": [
    "from pyspark.sql import types\n",
    "df.schema[\"sku\"].dataType == types.StringType()"
   ]
  },
  {
   "cell_type": "code",
   "execution_count": 35,
   "metadata": {},
   "outputs": [
    {
     "name": "stdout",
     "output_type": "stream",
     "text": [
      "+-------------------+-------------+------+----+--------------------+---------+--------------------+---------+----------------------+-------+--------------------+--------------------+--------------------+\n",
      "|         brand_name|category_name|family|  id|               image|is_active|                name|    price|product_all_properties| pv_sku|            quantity|             revenue|                 abc|\n",
      "+-------------------+-------------+------+----+--------------------+---------+--------------------+---------+----------------------+-------+--------------------+--------------------+--------------------+\n",
      "|           TH999999|    Lót Chuột|  null|   7|http://phongvu.vn...|        0|ban di chuot cool...|     null|  1703390 ban di ch...|1703390|                 0.0|                 0.0|ban di chuot cool...|\n",
      "|            CORSAIR|    Lót Chuột|  null|  12|http://phongvu.vn...|        0|ban di chuot cors...| 830000.0|  1703393 ban di ch...|1703393|                 0.0|                 0.0|ban di chuot cors...|\n",
      "|            CORSAIR|    Lót Chuột|  null|  16|http://phongvu.vn...|        0|ban di chuot cors...|1480000.0|  1703487 ban di ch...|1703487|                 0.0|                 0.0|ban di chuot cors...|\n",
      "|             E-Blue|    Lót Chuột|  null|  21|http://shop.gcafe...|        0|mieng lot chuot e...|  45000.0|  1703401 mieng lot...|1703401|0.001066098081023...|4.746892042302491...|mieng lot chuot e...|\n",
      "|    Hacker Assassin|    Lót Chuột|  null|null|                null|     null|                null|     null|                  null|   null|                null|                null|                null|\n",
      "|               null|         null|  null|null|                null|     null|                null|     null|                  null|   null|                null|                null|                null|\n",
      "|- Kích thước Medium|         null|  null|null|                null|     null|                null|     null|                  null|   null|                null|                null|                null|\n",
      "|               null|         null|  null|null|                null|     null|                null|     null|                  null|   null|                null|                null|                null|\n",
      "|               null|           22|     0|null|                   1|  20000.0|                 0.0|      0.0|                  null|  4.5mm|                   0|                null|                 0.0|\n",
      "|             Mionix|    Lót Chuột|  null|  30|http://phongvu.vn...|        0|ban di chuot mion...| 390000.0|  1703492 ban di ch...|1703492|                 0.0|                 0.0|ban di chuot mion...|\n",
      "|           TH999999|    Lót Chuột|  null|  31|http://phongvu.vn...|        0|ban di chuot mion...| 300000.0|  1703408 ban di ch...|1703408|                 0.0|                 0.0|ban di chuot mion...|\n",
      "|             NEWMEN|    Lót Chuột|  null|  35|http://shop.gcafe...|        0|mieng lot chuot n...|  30000.0|  1703409 mieng lot...|1703409|                 0.0|                 0.0|mieng lot chuot n...|\n",
      "|             NEWMEN|    Lót Chuột|  null|  42|http://shop.gcafe...|        0|mieng lot chuot n...|  25000.0|  1703410 mieng lot...|1703410|                 0.0|                 0.0|mieng lot chuot n...|\n",
      "|             NEWMEN|    Lót Chuột|  null|  43|http://shop.gcafe...|        0|mieng lot chuot n...| 130000.0|  1703411 mieng lot...|1703411|                 0.0|                 0.0|mieng lot chuot n...|\n",
      "|           TH999999|    Lót Chuột|  null|  44|http://phongvu.vn...|        0|ban di chuot raze...| 549000.0|  1703414 ban di ch...|1703414|                 0.0|                 0.0|ban di chuot raze...|\n",
      "|           TH999999|    Lót Chuột|  null|  46|http://shop.gcafe...|        0|mieng lot chuot r...|1599000.0|  1703415 mieng lot...|1703415|                 0.0|0.000237704305672...|mieng lot chuot r...|\n",
      "|              Razer|    Lót Chuột|  null|  49|http://phongvu.vn...|        0|ban di chuot raze...| 699000.0|  1703495 ban di ch...|1703495|                 0.0|                 0.0|ban di chuot raze...|\n",
      "|           TH999999|    Lót Chuột|  null|  50|http://shop.gcafe...|        0|mieng lot chuot r...| 299000.0|  1705121 mieng lot...|1705121|                 0.0|                 0.0|mieng lot chuot r...|\n",
      "|              Razer|    Lót Chuột|  null|  51|http://shop.gcafe...|        1|mieng lot chuot r...| 890000.0|  1703417 mieng lot...|1703417|0.000133262260127...|0.000277316330420...|mieng lot chuot r...|\n",
      "|        SteelSeries|    Lót Chuột|  null|  54|http://shop.gcafe...|        0|mieng lot chuot s...|1166000.0|  1703425 mieng lot...|1703425|                 0.0|                 0.0|mieng lot chuot s...|\n",
      "+-------------------+-------------+------+----+--------------------+---------+--------------------+---------+----------------------+-------+--------------------+--------------------+--------------------+\n",
      "only showing top 20 rows\n",
      "\n"
     ]
    }
   ],
   "source": [
    "df.withColumn(\"abc\", F.expr(\"name\")).show()"
   ]
  }
 ],
 "metadata": {
  "kernelspec": {
   "display_name": "Python 3",
   "language": "python",
   "name": "python3"
  },
  "language_info": {
   "codemirror_mode": {
    "name": "ipython",
    "version": 3
   },
   "file_extension": ".py",
   "mimetype": "text/x-python",
   "name": "python",
   "nbconvert_exporter": "python",
   "pygments_lexer": "ipython3",
   "version": "3.6.6"
  }
 },
 "nbformat": 4,
 "nbformat_minor": 2
}
